{
 "cells": [
  {
   "cell_type": "code",
   "execution_count": 1,
   "id": "4e4d9961-328f-4e28-8aa4-5a54f830717d",
   "metadata": {},
   "outputs": [],
   "source": [
    "import numpy as np\n",
    "import libaarhusxyz\n",
    "def read_em_data_from_dat_xyz(em_data, name_gate_times='gate times', dat_type='dat'):\n",
    "    gate_times = np.array(em_data.info[name_gate_times])\n",
    "    df_em = em_data.flightlines\n",
    "    group_em = df_em.groupby('record')\n",
    "    records = list(group_em.groups.keys())\n",
    "    df_em_collar = group_em[['line_no','utmx','utmy','timestamp','elevation','alt','tilt']].mean()\n",
    "\n",
    "    dat_names = ['data_{:d}'.format(ii+1) for ii in range(gate_times.size)]\n",
    "    df_em[dat_names] = em_data.layer_data['data']\n",
    "    if dat_type == 'dat':    \n",
    "        dat_std_names = ['datastd_{:d}'.format(ii+1) for ii in range(gate_times.size)]\n",
    "        df_em[dat_std_names] = em_data.layer_data['datastd']    \n",
    "\n",
    "    em_data_nan = em_data.layer_data['data']\n",
    "    em_data_nan = em_data_nan.replace(9999, np.nan)\n",
    "    n_ch1_active = np.round((~np.isnan(em_data_nan.loc[df_em[df_em.segment==1].index]).values).sum(axis=1).mean())\n",
    "    n_ch2_active = np.round((~np.isnan(em_data_nan.loc[df_em[df_em.segment==2].index]).values).sum(axis=1).mean())\n",
    "    print (f\"Active # of channels: Ch1={n_ch1_active:.0f}, Ch2={n_ch2_active:.0f}\")\n",
    "\n",
    "    inds_lm = (~np.isnan(em_data_nan.loc[df_em[df_em.segment==1].index]).values).sum(axis=0) > 0.\n",
    "    inds_hm = (~np.isnan(em_data_nan.loc[df_em[df_em.segment==2].index]).values).sum(axis=0) > 0.\n",
    "\n",
    "    data_lm = []\n",
    "    data_hm = []\n",
    "    if dat_type == 'dat':\n",
    "        datastd_lm = []\n",
    "        datastd_hm = []\n",
    "    records_inv = []\n",
    "    for i_record in records:\n",
    "        df_tmp = group_em.get_group(i_record)\n",
    "        values = df_tmp[dat_names].values\n",
    "        if dat_type == 'dat':\n",
    "            values_std = df_tmp[dat_std_names].values\n",
    "        if df_tmp.shape[0] == 2:\n",
    "            i_lm = np.argwhere(df_tmp['segment'].values==1)[0][0]                \n",
    "            i_hm = np.argwhere(df_tmp['segment'].values==2)[0][0]\n",
    "            data_lm.append(values[i_lm,inds_lm])\n",
    "            data_hm.append(values[i_hm,inds_hm])\n",
    "            if dat_type == 'dat':\n",
    "                datastd_lm.append(values_std[i_lm,inds_lm])\n",
    "                datastd_hm.append(values_std[i_hm,inds_hm])        \n",
    "            records_inv.append(i_record)\n",
    "    data_lm = np.vstack(data_lm)\n",
    "    data_hm = np.vstack(data_hm)\n",
    "    if dat_type == 'dat':\n",
    "        datastd_lm = np.vstack(datastd_lm)\n",
    "        datastd_hm = np.vstack(datastd_hm)\n",
    "    records_inv = np.hstack(records_inv)\n",
    "    df_em_inv = df_em_collar.loc[records_inv]\n",
    "    times_lm_inv = gate_times[inds_lm]\n",
    "    times_hm_inv = gate_times[inds_hm]    \n",
    "\n",
    "    ch1_names = ['dbdt_ch1gt_{:d}'.format(ii+1) for ii in range(data_lm.shape[1])]\n",
    "    ch2_names = ['dbdt_ch2gt_{:d}'.format(ii+1) for ii in range(data_hm.shape[1])]\n",
    "    if dat_type == 'dat':    \n",
    "        std_ch1_names = ['dbdt_std_ch1gt_{:d}'.format(ii+1) for ii in range(data_lm.shape[1])]\n",
    "        std_ch2_names = ['dbdt_std_ch2gt_{:d}'.format(ii+1) for ii in range(data_hm.shape[1])]    \n",
    "\n",
    "    df_em_inv[ch1_names] = data_lm\n",
    "    df_em_inv[ch2_names] = data_hm\n",
    "    if dat_type == 'dat':    \n",
    "        df_em_inv[std_ch1_names] = datastd_lm\n",
    "        df_em_inv[std_ch2_names] = datastd_hm\n",
    "    \n",
    "    meta_data_dict = {}\n",
    "    meta_data_dict['ch1_names'] = ch1_names\n",
    "    meta_data_dict['ch2_names'] = ch2_names\n",
    "    if dat_type == 'dat':    \n",
    "        meta_data_dict['std_ch1_names'] = std_ch1_names\n",
    "        meta_data_dict['std_ch2_names'] = std_ch1_names\n",
    "    meta_data_dict['ch1_times'] = times_lm_inv\n",
    "    meta_data_dict['ch2_times'] = times_hm_inv\n",
    "    df_em_inv = df_em_inv.replace(9999, np.nan)\n",
    "    return df_em_inv, meta_data_dict"
   ]
  },
  {
   "cell_type": "code",
   "execution_count": 2,
   "id": "81c52e86-82ee-413a-9ac4-eca69c51933f",
   "metadata": {},
   "outputs": [
    {
     "data": {
      "text/plain": [
       "['dummy',\n",
       " 'data unit',\n",
       " 'data type',\n",
       " 'coordinate system',\n",
       " 'number of layers',\n",
       " 'model unit',\n",
       " 'length unit',\n",
       " 'number of gates',\n",
       " 'gate times (s)',\n",
       " 'source']"
      ]
     },
     "execution_count": 2,
     "metadata": {},
     "output_type": "execute_result"
    }
   ],
   "source": [
    "fname = \"../salinas_2017/MCWD3_SCI1i_MOD_dat.xyz\"\n",
    "aem_data = libaarhusxyz.XYZ(fname)\n",
    "\n",
    "fname = \"../salinas_2017/MCWD3_SCI1i_MOD_syn.xyz\"\n",
    "aem_data_syn = libaarhusxyz.XYZ(fname)\n",
    "list(aem_data.info.keys())"
   ]
  },
  {
   "cell_type": "code",
   "execution_count": 3,
   "id": "32821676-f25d-4dac-8663-cf2373d4dba8",
   "metadata": {},
   "outputs": [],
   "source": [
    "fname = \"../salinas_2017/MCWD3_SCI1i_MOD_inv.xyz\"\n",
    "aem_model = libaarhusxyz.XYZ(fname)"
   ]
  },
  {
   "cell_type": "code",
   "execution_count": 4,
   "id": "ee4eb52b-3252-42be-85db-d4f2eb166ada",
   "metadata": {},
   "outputs": [
    {
     "name": "stdout",
     "output_type": "stream",
     "text": [
      "Active # of channels: Ch1=18, Ch2=25\n"
     ]
    }
   ],
   "source": [
    "df_em_inv, meta_data_dict = read_em_data_from_dat_xyz(aem_data, name_gate_times='gate times (s)')"
   ]
  },
  {
   "cell_type": "code",
   "execution_count": 5,
   "id": "d3d12ce9-8374-4ac2-a7d6-b3a10a576de6",
   "metadata": {},
   "outputs": [
    {
     "name": "stdout",
     "output_type": "stream",
     "text": [
      "Active # of channels: Ch1=18, Ch2=25\n"
     ]
    }
   ],
   "source": [
    "df_em_syn, _ = read_em_data_from_dat_xyz(aem_data_syn, name_gate_times='gate times (s)', dat_type='syn')"
   ]
  },
  {
   "cell_type": "code",
   "execution_count": 34,
   "id": "7c81e71d-0441-451d-a113-1a93136d83f3",
   "metadata": {},
   "outputs": [
    {
     "data": {
      "text/plain": [
       "[<matplotlib.lines.Line2D at 0x7fbef838db40>]"
      ]
     },
     "execution_count": 34,
     "metadata": {},
     "output_type": "execute_result"
    },
    {
     "data": {
      "image/png": "[encoded data removed]",
      "text/plain": [
       "<Figure size 640x480 with 1 Axes>"
      ]
     },
     "metadata": {},
     "output_type": "display_data"
    }
   ],
   "source": [
    "import matplotlib.pyplot as plt\n",
    "ch1_names = meta_data_dict['ch1_names']\n",
    "ch2_names = meta_data_dict['ch2_names']\n",
    "times_ch1 = meta_data_dict['ch1_times']\n",
    "times_ch2 = meta_data_dict['ch2_times']\n",
    "\n",
    "record_tmp = 1000\n",
    "plt.loglog(times_ch1, df_em_inv.loc[record_tmp][ch1_names], 'o')\n",
    "plt.loglog(times_ch2, df_em_inv.loc[record_tmp][ch2_names], 'o')\n",
    "plt.loglog(times_ch1, df_em_syn.loc[record_tmp][ch1_names], '-')\n",
    "plt.loglog(times_ch2, df_em_syn.loc[record_tmp][ch2_names], '-')"
   ]
  },
  {
   "cell_type": "code",
   "execution_count": 35,
   "id": "bb904320-27a7-4e2d-b7f9-33cb014ae874",
   "metadata": {},
   "outputs": [],
   "source": [
    "df_rho_collar = aem_model.flightlines\n",
    "rho = aem_model.layer_data['rho_i'].loc[df_rho_collar[df_rho_collar['record']==record_tmp].index].values.flatten()\n",
    "thickness = aem_model.layer_data['thk'].loc[df_rho_collar[df_rho_collar['record']==record_tmp].index].values.flatten()"
   ]
  },
  {
   "cell_type": "code",
   "execution_count": 36,
   "id": "0606b434-fc4d-4b20-9f1f-b8b825e5d564",
   "metadata": {},
   "outputs": [
    {
     "name": "stdout",
     "output_type": "stream",
     "text": [
      "header [General] parsed\n",
      "header [Channel1] parsed\n",
      "header [Channel2] parsed\n"
     ]
    }
   ],
   "source": [
    "system = libaarhusxyz.parse_gex(\"../salinas_2017/20170606_337m2_Cal_DualWaveform_60Hz_414_412_418.gex\")\n",
    "area = system['General']['TxLoopArea']\n",
    "waveform_hm = system['General']['WaveformHMPoint']\n",
    "waveform_lm = system['General']['WaveformLMPoint']\n",
    "i_start_hm = int(system['Channel2']['RemoveInitialGates'])\n",
    "i_start_lm = int(system['Channel1']['RemoveInitialGates'])\n",
    "time_input_currents_hm = waveform_hm[:,0]\n",
    "input_currents_hm = waveform_hm[:,1]\n",
    "time_input_currents_lm = waveform_lm[:,0]\n",
    "input_currents_lm = waveform_lm[:,1]\n",
    "\n",
    "time_gates = system['General']['GateTime']\n",
    "GateTimeShift=system['Channel1']['GateTimeShift']\n",
    "MeaTimeDelay=system['Channel1']['MeaTimeDelay']\n",
    "NoGates=int(system['Channel1']['NoGates'])\n",
    "t0_lm = waveform_lm[:,0].max()\n",
    "times_lm = (time_gates[:NoGates,0] + GateTimeShift + MeaTimeDelay)[i_start_lm:]\n",
    "GateTimeShift=system['Channel2']['GateTimeShift']\n",
    "MeaTimeDelay=system['Channel2']['MeaTimeDelay']\n",
    "NoGates=int(system['Channel2']['NoGates'])\n",
    "t0_hm = waveform_hm[:,0].max()\n",
    "times_hm = (time_gates[:NoGates,0] + GateTimeShift + MeaTimeDelay)[i_start_hm:]"
   ]
  },
  {
   "cell_type": "code",
   "execution_count": 37,
   "id": "c9f7ca6a-b5f3-41fd-b826-57771007a5ec",
   "metadata": {},
   "outputs": [
    {
     "data": {
      "text/plain": [
       "array([7.681e-05, 8.131e-05, 8.641e-05, 9.382e-05, 1.028e-04, 1.143e-04,\n",
       "       1.288e-04, 1.468e-04, 1.693e-04, 1.973e-04, 2.328e-04, 2.783e-04,\n",
       "       3.353e-04, 4.073e-04, 4.983e-04, 6.123e-04, 7.563e-04, 9.378e-04,\n",
       "       1.167e-03, 1.455e-03, 1.819e-03, 2.278e-03, 2.856e-03, 3.575e-03,\n",
       "       4.455e-03, 5.532e-03, 6.850e-03, 8.464e-03])"
      ]
     },
     "execution_count": 37,
     "metadata": {},
     "output_type": "execute_result"
    }
   ],
   "source": [
    "times_ch2"
   ]
  },
  {
   "cell_type": "code",
   "execution_count": 38,
   "id": "ec1fa3f9-2f89-40a3-a26b-8c13bc792f8b",
   "metadata": {},
   "outputs": [],
   "source": [
    "# source_height = df_em_inv.loc[record_tmp]['alt']\n",
    "source_height = df_rho_collar[df_rho_collar['record']==record_tmp]['invalt'].values[0]"
   ]
  },
  {
   "cell_type": "code",
   "execution_count": 39,
   "id": "bc3d5c87-60a9-4d71-8f17-cd61423b2ca3",
   "metadata": {},
   "outputs": [
    {
     "data": {
      "text/plain": [
       "array([9.9e-01, 2.1e+05])"
      ]
     },
     "execution_count": 39,
     "metadata": {},
     "output_type": "execute_result"
    }
   ],
   "source": [
    "system['General']['RxCoilLPFilter']"
   ]
  },
  {
   "cell_type": "code",
   "execution_count": 40,
   "id": "01bf9700-5f7b-4b67-b4ac-3ef7034f7f30",
   "metadata": {},
   "outputs": [
    {
     "data": {
      "text/plain": [
       "array([1.e+00, 3.e+05])"
      ]
     },
     "execution_count": 40,
     "metadata": {},
     "output_type": "execute_result"
    }
   ],
   "source": [
    "system['Channel1']['TiBLowPassFilter']"
   ]
  },
  {
   "cell_type": "code",
   "execution_count": 41,
   "id": "af9cc1b0-5567-4f9f-84cd-007123875db7",
   "metadata": {},
   "outputs": [
    {
     "data": {
      "text/plain": [
       "array([1.e+00, 3.e+05])"
      ]
     },
     "execution_count": 41,
     "metadata": {},
     "output_type": "execute_result"
    }
   ],
   "source": [
    "system['Channel2']['TiBLowPassFilter']"
   ]
  },
  {
   "cell_type": "code",
   "execution_count": 49,
   "id": "eeb69c88-965c-4fcf-88fe-3ed85eff989a",
   "metadata": {},
   "outputs": [
    {
     "name": "stderr",
     "output_type": "stream",
     "text": [
      "/Users/sgkang09/Project/simpeg/SimPEG/props.py:369: UserWarning: Cannot add model as there are no active mappings, choose from: ['cMap', 'etaMap', 'hMap', 'muMap', 'rhoMap', 'sigmaMap', 'tauMap', 'thicknessesMap']\n",
      "  warnings.warn(\n"
     ]
    }
   ],
   "source": [
    "from discretize import TensorMesh\n",
    "import numpy as np\n",
    "from SimPEG import maps\n",
    "import SimPEG.electromagnetics.time_domain as tdem\n",
    "from SimPEG.electromagnetics.utils.em1d_utils import plot_layer, set_mesh_1d\n",
    "\n",
    "# Source properties\n",
    "source_location = np.array([0., 0., source_height])  \n",
    "source_orientation = \"z\"                      # \"x\", \"y\" or \"z\"\n",
    "source_current = 1.                           # maximum on-time current\n",
    "\n",
    "# Receiver properties\n",
    "receiver_location = np.array([13.25, 0., source_height+2.])\n",
    "receiver_orientation = \"z\"                    # \"x\", \"y\" or \"z\"\n",
    "# Receiver list\n",
    "# Define receivers at each location.\n",
    "receivers_lm_list = [\n",
    "    tdem.receivers.PointMagneticFluxTimeDerivative(\n",
    "        receiver_location, times_ch1, \"z\",\n",
    "        lp_cutoff_frequency_1=3e5,\n",
    "        lp_power_1=1,\n",
    "        lp_cutoff_frequency_2=2.1e5,\n",
    "        lp_power_2=0.99,        \n",
    "    ),\n",
    "]  # Make a list containing all receivers even if just one\n",
    "receivers_hm_list = [\n",
    "    tdem.receivers.PointMagneticFluxTimeDerivative(\n",
    "        receiver_location, times_ch2, \"z\",\n",
    "        lp_cutoff_frequency_1=3e5,\n",
    "        lp_power_1=1,\n",
    "        lp_cutoff_frequency_2=2.1e5,\n",
    "        lp_power_2=0.99,        \n",
    "    ),\n",
    "]  # Make a list containing all receivers even if just one\n",
    "\n",
    "waveform_lm = tdem.sources.PiecewiseLinearWaveform(\n",
    "        times=time_input_currents_lm, currents=input_currents_lm\n",
    ")\n",
    "waveform_hm = tdem.sources.PiecewiseLinearWaveform(\n",
    "        times=time_input_currents_hm, currents=input_currents_hm\n",
    ")\n",
    "# Must define the transmitter properties and associated receivers\n",
    "source_list = [\n",
    "    tdem.sources.MagDipole(\n",
    "        receivers_lm_list,\n",
    "        location=source_location,\n",
    "        waveform=waveform_lm,\n",
    "    ),\n",
    "    tdem.sources.MagDipole(\n",
    "        receivers_hm_list,\n",
    "        location=source_location,\n",
    "        waveform=waveform_hm,\n",
    "    ),    \n",
    "]\n",
    "\n",
    "survey = tdem.Survey(source_list)\n",
    "# Define the simulation\n",
    "simulation = tdem.Simulation1DLayered(\n",
    "    survey=survey, thicknesses=thickness, sigma=1./rho,\n",
    ")\n",
    "# %%time\n",
    "dpred = simulation.dpred([])  "
   ]
  },
  {
   "cell_type": "code",
   "execution_count": 50,
   "id": "e144739c-6d04-43b2-8564-6ed8d6f3223b",
   "metadata": {},
   "outputs": [
    {
     "data": {
      "text/plain": [
       "[<matplotlib.lines.Line2D at 0x7fbee84395d0>]"
      ]
     },
     "execution_count": 50,
     "metadata": {},
     "output_type": "execute_result"
    },
    {
     "data": {
      "image/png": "[encoded data removed]",
      "text/plain": [
       "<Figure size 640x480 with 1 Axes>"
      ]
     },
     "metadata": {},
     "output_type": "display_data"
    }
   ],
   "source": [
    "plt.loglog(times_ch1, df_em_syn.loc[record_tmp][ch1_names], 'o')\n",
    "plt.loglog(times_ch2, df_em_syn.loc[record_tmp][ch2_names], 'o')\n",
    "plt.loglog(times_ch1, -dpred[:len(ch1_names)], '-')\n",
    "plt.loglog(times_ch2, -dpred[len(ch1_names):], '-')"
   ]
  }
 ],
 "metadata": {
  "kernelspec": {
   "display_name": "Python 3 (ipykernel)",
   "language": "python",
   "name": "python3"
  },
  "language_info": {
   "codemirror_mode": {
    "name": "ipython",
    "version": 3
   },
   "file_extension": ".py",
   "mimetype": "text/x-python",
   "name": "python",
   "nbconvert_exporter": "python",
   "pygments_lexer": "ipython3",
   "version": "3.10.9"
  }
 },
 "nbformat": 4,
 "nbformat_minor": 5
}
